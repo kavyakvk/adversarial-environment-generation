{
 "cells": [
  {
   "cell_type": "code",
   "execution_count": 1,
   "metadata": {},
   "outputs": [],
   "source": [
    "from queue import Queue\n",
    "import numpy as np"
   ]
  },
  {
   "cell_type": "code",
   "execution_count": 6,
   "metadata": {},
   "outputs": [],
   "source": []
  },
  {
   "cell_type": "code",
   "execution_count": 12,
   "metadata": {},
   "outputs": [],
   "source": [
    "N = 'N'\n",
    "S = 'S'\n",
    "E = 'E'\n",
    "W = 'W'\n",
    "\n",
    "# use graph search \n",
    "\n",
    "\n",
    "# this will probably need to be an environment variable\n",
    "def expert_navigation_policy_set(desc, loc):\n",
    "    (loc_r, loc_c) = loc\n",
    "    num_rows = len(desc)\n",
    "    num_cols = len(desc[0])\n",
    "    max_row = num_rows - 1\n",
    "    max_col = num_cols - 1\n",
    "    spt = [[[[], np.inf] for _ in range(num_cols)] for _ in range(num_rows)]\n",
    "    \n",
    "    \n",
    "    spt[loc_r][loc_c][0].append(-1) # after arriving at dest, no action should be taken\n",
    "    spt[loc_r][loc_c][1] = 0\n",
    "    \n",
    "    q = Queue()\n",
    "    q.put([loc, 0])\n",
    "    \n",
    "    while not q.empty():\n",
    "        [(row, col), cur_dist] = q.get() # current location we are exploring the neighbors of\n",
    "        for action in ['N', 'E', 'S', 'W']: \n",
    "            if action == 'S':\n",
    "                (next_r, next_c) = (min(row + 1, max_row), col)\n",
    "                if spt[next_r][next_c][1] >= cur_dist + 1 and desc[next_r][next_c]!= 3:\n",
    "                    if spt[next_r][next_c][1] > cur_dist + 1:  \n",
    "                        spt[next_r][next_c][1] = cur_dist + 1\n",
    "                        q.put([(next_r, next_c), cur_dist + 1])\n",
    "                    spt[next_r][next_c][0].append(N) # add to optimal actions list\n",
    "                                     \n",
    "            elif action == 'N':\n",
    "                (next_r, next_c) = (max(row - 1, 0), col)\n",
    "                if spt[next_r][next_c][1] >= cur_dist + 1 and desc[next_r][next_c]!= 3:\n",
    "                    if spt[next_r][next_c][1] > cur_dist + 1:   \n",
    "                        spt[next_r][next_c][1] = cur_dist + 1\n",
    "                        q.put([(next_r, next_c), cur_dist + 1])\n",
    "                    spt[next_r][next_c][0].append(S)\n",
    "                        \n",
    "            elif action == 'E':\n",
    "                (next_r, next_c) = (row, min(col + 1, max_col))\n",
    "                \n",
    "                if spt[next_r][next_c][1] >= cur_dist + 1 and desc[next_r][next_c]!= 3:\n",
    "                    if spt[next_r][next_c][1] > cur_dist + 1:   \n",
    "                        spt[next_r][next_c][1] = cur_dist + 1\n",
    "                        q.put([(next_r, next_c), cur_dist + 1])\n",
    "                    spt[next_r][next_c][0].append(W)\n",
    "            \n",
    "            elif action == 'W':\n",
    "                (next_r, next_c) = (row, max(col - 1, 0))\n",
    "                \n",
    "                if spt[next_r][next_c][1] >= cur_dist + 1 and desc[next_r][next_c]!= 3:\n",
    "                    if spt[next_r][next_c][1] > cur_dist + 1:\n",
    "                        spt[next_r][next_c][1] = cur_dist + 1\n",
    "                        q.put([(next_r, next_c), cur_dist + 1])\n",
    "                    spt[next_r][next_c][0].append(E)\n",
    "\n",
    "    return spt"
   ]
  },
  {
   "cell_type": "code",
   "execution_count": 21,
   "metadata": {},
   "outputs": [],
   "source": [
    "TOY_MAP = np.array([\n",
    "    [2,0,0,0,0],\n",
    "    [0,0,0,0,0],\n",
    "    [0,3,0,3,0],\n",
    "    [0,0,0,3,0],\n",
    "    [0,3,0,0,9]\n",
    "    ])"
   ]
  },
  {
   "cell_type": "code",
   "execution_count": 22,
   "metadata": {},
   "outputs": [
    {
     "data": {
      "text/plain": [
       "[[[[-1], 0], [['W'], 1], [['W'], 2], [['W'], 3], [['W'], 4]],\n",
       " [[['N'], 1],\n",
       "  [['N', 'W'], 2],\n",
       "  [['N', 'W'], 3],\n",
       "  [['N', 'W'], 4],\n",
       "  [['N', 'W'], 5]],\n",
       " [[['N'], 2], [[], inf], [['N'], 4], [[], inf], [['N'], 6]],\n",
       " [[['N'], 3], [['W'], 4], [['N', 'W'], 5], [[], inf], [['N'], 7]],\n",
       " [[['N'], 4], [[], inf], [['N'], 6], [['W'], 7], [['N', 'W'], 8]]]"
      ]
     },
     "execution_count": 22,
     "metadata": {},
     "output_type": "execute_result"
    }
   ],
   "source": [
    "# for the i,jth entry, return a list of equally optimal directions to move in \n",
    "# and a number representing steps needed to reach goal (hive)\n",
    "# 'inf' refers to squares from which hive unreachable; e.g. inside obstacle locations\n",
    "expert_navigation_policy_set(TOY_MAP, (0,0))"
   ]
  },
  {
   "cell_type": "code",
   "execution_count": 23,
   "metadata": {
    "scrolled": false
   },
   "outputs": [
    {
     "data": {
      "text/plain": [
       "[[[-1], ['W'], ['W'], ['W'], ['W']],\n",
       " [['N'], ['N', 'W'], ['N', 'W'], ['N', 'W'], ['N', 'W']],\n",
       " [['N'], [], ['N'], [], ['N']],\n",
       " [['N'], ['W'], ['N', 'W'], [], ['N']],\n",
       " [['N'], [], ['N'], ['W'], ['N', 'W']]]"
      ]
     },
     "execution_count": 23,
     "metadata": {},
     "output_type": "execute_result"
    }
   ],
   "source": [
    "# pull just the optimal directions for readability\n",
    "[[q[0] for q in r] for r in expert_navigation_policy_set(TOY_MAP, (0,0))]"
   ]
  },
  {
   "cell_type": "code",
   "execution_count": 34,
   "metadata": {},
   "outputs": [
    {
     "data": {
      "text/plain": [
       "['N', 'W']"
      ]
     },
     "execution_count": 34,
     "metadata": {},
     "output_type": "execute_result"
    }
   ],
   "source": [
    "# example of getting list of optimal directions for square i,j\n",
    "i = 4\n",
    "j = 4\n",
    "expert_navigation_policy_set(TOY_MAP, (0,0))[i][j][0]"
   ]
  },
  {
   "cell_type": "code",
   "execution_count": null,
   "metadata": {},
   "outputs": [],
   "source": [
    "make & store shortest path tree back to hive\n",
    "\n",
    "agent_next_action():\n",
    "    if agent carrying food:\n",
    "        follow shortest path back to hive, possibly with noise\n",
    "        \n",
    "    else if agent not carrying food:\n",
    "        get partial observability window\n",
    "        look at pheromone levels of cells (num varies depending on obs_rad) in continued direction of last step\n",
    "        move in direction of cell with greatest pheromone\n",
    "        if that cell is diagonal and both not blocked, pick direction to take randomly\n",
    "        if all those cells are blocked, randomly choose an unblocked direction to take\n",
    "        return/store action taken\n",
    "    \n",
    "    \n",
    "agent.get_action(partially-observable observation): returns (movement, pheromone)\n",
    "        "
   ]
  },
  {
   "cell_type": "code",
   "execution_count": 2,
   "metadata": {},
   "outputs": [
    {
     "ename": "SyntaxError",
     "evalue": "invalid syntax (<ipython-input-2-b75baaba8503>, line 14)",
     "output_type": "error",
     "traceback": [
      "\u001b[0;36m  File \u001b[0;32m\"<ipython-input-2-b75baaba8503>\"\u001b[0;36m, line \u001b[0;32m14\u001b[0m\n\u001b[0;31m    elif last_action = 'S':\u001b[0m\n\u001b[0m                     ^\u001b[0m\n\u001b[0;31mSyntaxError\u001b[0m\u001b[0;31m:\u001b[0m invalid syntax\n"
     ]
    }
   ],
   "source": [
    "# q: can ants see pheromones through walls? (going to assume yes for simplicity)\n",
    "def get_action(self, obs, valid_actions):\n",
    "    pos_in_window = obs_rad, obs_rad\n",
    "    if self.food:\n",
    "        # take optimal direction towards hive\n",
    "        return np.random.choice(spt[self.x][self.y][0])\n",
    "    else:\n",
    "        if last_action == 'N':\n",
    "            best_loc = np.argmax(obs[:obs_rad, :])\n",
    "            \n",
    "        elif last_action == 'E':\n",
    "            best_loc = np.argmax(obs[:, obs_rad + 1:])\n",
    "        \n",
    "        elif last_action = 'S':\n",
    "            best_loc = np.argmax(obs[obs_rad + 1:, :])\n",
    "        \n",
    "        elif last_action = 'W':\n",
    "            best_loc =  np.argmax(obs[:, :obs_rad])\n",
    "            \n",
    "        else: \n",
    "            assert False\n",
    "            \n",
    "    good_actions = []     \n",
    "    # if best action row > agent row in observation window\n",
    "    if best_loc[0] > obs_rad:\n",
    "        good_actions.append(S)\n",
    "    if best_loc[0] < obs_rad:\n",
    "        good_actions.append(N)\n",
    "    if best_loc[1] > obs_rad:\n",
    "        good_actions.append(E)\n",
    "    if best_loc[1] < obs_rad:\n",
    "        good_actions.append(W)\n",
    "        \n",
    "    # if list empty take random action from all actions not blocked by obstacles\n",
    "    good_actions = np.intersect1d(np.array(good_answers), valid_actions)\n",
    "    if len(good_actions) > 0:\n",
    "        return np.random.choice(good_actions)\n",
    "    else:\n",
    "        return np.random.choice(valid_actions)\n",
    "    \n",
    "    \n",
    "        "
   ]
  },
  {
   "cell_type": "code",
   "execution_count": 32,
   "metadata": {},
   "outputs": [
    {
     "data": {
      "text/plain": [
       "array([[0, 1, 2, 3, 4],\n",
       "       [5, 6, 7, 8, 9]])"
      ]
     },
     "execution_count": 32,
     "metadata": {},
     "output_type": "execute_result"
    }
   ],
   "source": [
    "z = np.array([[0,1,2,3,4,],[5,6,7,8,9]])\n",
    "z"
   ]
  },
  {
   "cell_type": "code",
   "execution_count": 33,
   "metadata": {},
   "outputs": [
    {
     "data": {
      "text/plain": [
       "array([[2, 3, 4],\n",
       "       [7, 8, 9]])"
      ]
     },
     "execution_count": 33,
     "metadata": {},
     "output_type": "execute_result"
    }
   ],
   "source": [
    "z[:,2:]"
   ]
  },
  {
   "cell_type": "code",
   "execution_count": null,
   "metadata": {},
   "outputs": [],
   "source": []
  }
 ],
 "metadata": {
  "kernelspec": {
   "display_name": "Python 3",
   "language": "python",
   "name": "python3"
  },
  "language_info": {
   "codemirror_mode": {
    "name": "ipython",
    "version": 3
   },
   "file_extension": ".py",
   "mimetype": "text/x-python",
   "name": "python",
   "nbconvert_exporter": "python",
   "pygments_lexer": "ipython3",
   "version": "3.8.3"
  }
 },
 "nbformat": 4,
 "nbformat_minor": 4
}
