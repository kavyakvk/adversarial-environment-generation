{
 "cells": [
  {
   "cell_type": "code",
   "execution_count": 1,
   "id": "d5f9344f",
   "metadata": {},
   "outputs": [],
   "source": [
    "import pickle\n",
    "import seaborn as sns\n",
    "import matplotlib.pyplot as plt\n",
    "import pandas as pd\n",
    "%matplotlib inline"
   ]
  },
  {
   "cell_type": "code",
   "execution_count": 2,
   "id": "6eb0c250",
   "metadata": {},
   "outputs": [],
   "source": [
    "folder = 'Pickled/Final/KavyaRuns/Coevolution/Coevolution5DQNAgent_20DUELiterations_5GAiterations_30GApopulation_20AGENTepisodes'"
   ]
  },
  {
   "cell_type": "code",
   "execution_count": null,
   "id": "2dd22855",
   "metadata": {},
   "outputs": [],
   "source": [
    "duel_training_pickle = None\n",
    "with open(f'{folder}Coevolution', 'rb') as f:\n",
    "    duel_training_pickle = pickle.load(f)"
   ]
  }
 ],
 "metadata": {
  "kernelspec": {
   "display_name": "Python 3 (ipykernel)",
   "language": "python",
   "name": "python3"
  },
  "language_info": {
   "codemirror_mode": {
    "name": "ipython",
    "version": 3
   },
   "file_extension": ".py",
   "mimetype": "text/x-python",
   "name": "python",
   "nbconvert_exporter": "python",
   "pygments_lexer": "ipython3",
   "version": "3.8.5"
  }
 },
 "nbformat": 4,
 "nbformat_minor": 5
}
