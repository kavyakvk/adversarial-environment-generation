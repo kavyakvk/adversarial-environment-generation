{
 "cells": [
  {
   "cell_type": "markdown",
   "metadata": {},
   "source": [
    "Visualizes fitness over time\n",
    "Fitness := number of food collected / number of agents"
   ]
  },
  {
   "cell_type": "code",
   "execution_count": 3,
   "metadata": {},
   "outputs": [
    {
     "name": "stdout",
     "output_type": "stream",
     "text": [
      "[[-6.4, -6.4, -6.0, -5.6, -7.0, -5.0, -5.4, -3.6, -4.6, -3.8, -6.6, -5.2, -6.2, -4.4, -5.6, -3.6, -6.0, -6.6, -2.6, -4.8, -5.6, -1.4, -6.0, -7.0, -4.8, -3.2, -5.6, -2.8, -5.8, -6.0, -7.2, -7.6, -6.2, -6.4, -8.2, -7.2, -6.4, -6.6, -3.4, -0.4, -3.0, -5.8, -4.0, -5.2, -5.4, -5.8, -4.6, -7.6, -6.0, -5.4, -5.4, -6.4, -3.2, -6.4, -6.0, -6.6, -5.4, -6.0, -6.4, -6.0, -4.0, -6.2, -4.8, -8.0, -4.8, -6.4, -5.0, -5.4, -7.8, -3.6, -5.2, -8.0, -6.6, -3.8, -5.2, -5.8, -5.0, -6.8, -6.0, -6.4, -6.4, -8.0, -7.6, -6.2, -4.4, -6.2, -6.0, -4.8, -5.0, -6.4, -6.2, -7.2, -4.2, -5.4, -3.4, -7.0, -3.4, -7.8, -7.2, -3.6], [-4.0, -5.8, -2.2, -2.2, -2.6, 0.0, -1.0, -0.8, -4.0, -1.8, -5.4, -2.2, -5.4, -6.6, -4.4, -5.8, -4.8, -3.8, -6.6, -3.2, -3.6, -5.2, -7.0, -2.2, -5.4, -3.0, -5.4, -3.0, -5.0, -4.8, -3.6, -5.2, -5.6, -4.8, -4.0, -5.2, -4.0, -5.2, -5.2, -5.6, -5.0, -3.8, -2.2, -5.6, -6.4, -6.6, -6.8, -3.2, -5.6, -3.2, -5.8, -4.6, -4.2, -5.6, -5.2, -6.8, -5.4, -5.8, -6.6, -7.0, -5.8, -6.6, -4.6, -5.0, -6.6, -3.0, -5.6, -4.0, -4.4, -3.0, -5.6, -4.6, -3.2, -3.2, -5.2, -4.6, -3.2, -6.6, -6.8, -4.4, -2.6, -5.2, -6.8, -5.4, -6.2, -1.8, -2.4, -4.4, -7.2, -4.0, -7.4, -6.0, -6.0, -4.6, -6.2, -6.2, -6.6, -4.4, -6.8, -2.6]]\n"
     ]
    }
   ],
   "source": [
    "import pickle\n",
    "import seaborn as sns\n",
    "import matplotlib.pyplot as plt\n",
    "%matplotlib inline\n",
    "\n",
    "with open('fitness_values', 'rb') as f:\n",
    "    fitness_values = pickle.load(f)\n",
    "print(fitness_values)"
   ]
  },
  {
   "cell_type": "code",
   "execution_count": null,
   "metadata": {},
   "outputs": [],
   "source": [
    "sns.set(style='darkgrid')\n",
    "ax = sns.scatterplot(data=fitness_values)\n",
    "plt.title('Fitness over 100 iterations')\n",
    "# Set x-axis label\n",
    "plt.xlabel('Iteration')\n",
    "# Set y-axis label\n",
    "plt.ylabel('Food collected per agent')\n"
   ]
  }
 ],
 "metadata": {
  "kernelspec": {
   "display_name": "Python 3",
   "language": "python",
   "name": "python3"
  },
  "language_info": {
   "codemirror_mode": {
    "name": "ipython",
    "version": 3
   },
   "file_extension": ".py",
   "mimetype": "text/x-python",
   "name": "python",
   "nbconvert_exporter": "python",
   "pygments_lexer": "ipython3",
   "version": "3.8.5"
  }
 },
 "nbformat": 4,
 "nbformat_minor": 4
}
