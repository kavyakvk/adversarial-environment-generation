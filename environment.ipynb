{
  "nbformat": 4,
  "nbformat_minor": 0,
  "metadata": {
    "colab": {
      "name": "environment.ipynb",
      "provenance": [],
      "collapsed_sections": []
    },
    "kernelspec": {
      "name": "python3",
      "display_name": "Python 3"
    },
    "language_info": {
      "name": "python"
    }
  },
  "cells": [
    {
      "cell_type": "markdown",
      "metadata": {
        "id": "AKR5G4LtRaUv"
      },
      "source": [
        "# Adversarial Environment Generation for Multi-agent Foraging\n",
        "CS 289 Final Project\n",
        "\n",
        "Kavya Kopparapu, Eric Lin, Lucy Liu"
      ]
    },
    {
      "cell_type": "markdown",
      "metadata": {
        "id": "G4Zic_gKRuF3"
      },
      "source": [
        "# Environment setup\n",
        "\n",
        "Inspiration from following sources: \n",
        "\n",
        "*   https://github.com/semitable/lb-foraging and OpenAI Gym\n",
        "*   https://github.com/mgoadric/ants-mesa \n",
        "\n"
      ]
    },
    {
      "cell_type": "code",
      "metadata": {
        "id": "4eemfhThg6CG"
      },
      "source": [
        "import numpy as np\n",
        "import random\n",
        "import copy"
      ],
      "execution_count": 41,
      "outputs": []
    },
    {
      "cell_type": "code",
      "metadata": {
        "id": "1mXIjs_sRInz"
      },
      "source": [
        "ENV_PARAMS = {'coding_dict': {'empty': 0, 'agent': 1, 'hive': 2, 'blockade': 3, \n",
        "                                'food_start': 4},\n",
        "                'N': 20, 'M': 20, 'max_food': 6, 'observation_radius': 5, 'steps': 5000, 'spawn_rate': 2,\n",
        "                'pheromone': {'evaporation': 0.1, 'diffusion': 0.1, 'step': 0.2},\n",
        "                'grid': {'food': 40, 'blockade': 20}}\n",
        "\n",
        "class Environment:\n",
        "    def __init__(self, env_params, grid=None):\n",
        "        '''\n",
        "            Grid\n",
        "        '''\n",
        "        self.cols = env_params['N']\n",
        "        self.rows = env_params['M']\n",
        "        self.static = np.zeros((self.cols, self.rows), dtype=float)     # one-hot encoding of agent locations\n",
        "        self.agent_nums = np.zeros((self.cols, self.rows), dtype=float)     # number of agents in each location\n",
        "        self.dynamic = np.zeros((self.cols, self.rows), dtype=float)  # pheromone values for every location in grid\n",
        "\n",
        "        if grid is not None:        # if there is a grid passed through\n",
        "            self.grid = grid\n",
        "        else:\n",
        "            self.grid = np.zeros((self.cols, self.rows), dtype=float)\n",
        "            self.grid[0][0] = 2\n",
        "            self.grid[self.cols-1][self.rows-1] = 9              # Place food in the corner\n",
        "        \n",
        "        \n",
        "        '''\n",
        "            Params\n",
        "        '''\n",
        "        self.evaporation_rate = env_params['pheromone']['evaporation']\n",
        "        self.observation_radius = env_params['observation_radius']\n",
        "        self.total_food = 0\n",
        "        self.time_step = 0\n",
        "        self.total_steps = env_params['steps']\n",
        "        self.spawn_rate = env_params['spawn_rate']\n",
        "\n",
        "        '''\n",
        "            Spawn queue\n",
        "        '''\n",
        "        self.spawn_queue = []\n",
        "\n",
        "\n",
        "    def update_valid_movements(self, agent):\n",
        "        location, food = agent.get_state()\n",
        "        pos_x, pos_y = location\n",
        "        possible_movements = [(0,-1), (0,1), (1,0), (-1,0), (0,0)]\n",
        "        valid_movements = []\n",
        "        for movement in possible_movements:\n",
        "            new_location = (pos_x + movement[0], pos_y + movement[1])\n",
        "            if new_location[0] < self.cols and new_location[0] >= 0 and new_location[1] < self.rows and new_location[1] >= 0 and self.grid[new_location[0]][new_location[1]] != 3:\n",
        "                valid_movements.append(movement)\n",
        "        agent.valid_movements = valid_movements\n",
        "    \n",
        "    def step(self, agents):\n",
        "        self.time_step += 1\n",
        "\n",
        "        # Pheromone evaporation\n",
        "        for i in range(self.cols):\n",
        "            for j in range(self.rows):\n",
        "                self.dynamic[i, j] *= (1 - self.evaporation_rate)\n",
        "\n",
        "        # Update for each active agent\n",
        "        for agent in agents:\n",
        "            if agent.active == 1:\n",
        "                self.update_valid_movements(agent)\n",
        "                movement, pheromone = agent.get_action()\n",
        "                location, food = agent.get_state()\n",
        "                new_location = (location[0] + movement[0], location[1] + movement[1])\n",
        "                # Add pheromone\n",
        "                self.dynamic[location] += pheromone\n",
        "                # Update agent location\n",
        "                self.agent_nums[location] -= 1\n",
        "                if self.agent_nums[location] == 0:\n",
        "                    self.static[location] = 0   # Delete previous location from static\n",
        "                agent.prev_location = location\n",
        "                self.agent_nums[new_location] += 1\n",
        "                self.static[new_location] = 1   # Add new location to static\n",
        "                agent.location = new_location\n",
        "                # If agent is now at food and doesn't already have food\n",
        "                if self.grid[new_location[0]][new_location[1]] > 3 and agent.food == 0:\n",
        "                    agent.food = 1\n",
        "                    if self.grid[new_location[0]][new_location[1]] == 4:\n",
        "                        self.grid[new_location[0]][new_location[1]] == 0    # now no more food\n",
        "                    else:\n",
        "                        self.grid[new_location[0]][new_location[1]] -= 1    # decrement food by 1\n",
        "                    agent.bfs_active = 1        # activate bfs\n",
        "                # If agent is now at hive\n",
        "                if new_location == (0,0):\n",
        "                    agent.active = 0\n",
        "                    self.spawn_queue.append(agent.id)\n",
        "                    self.total_food += agent.food\n",
        "\n",
        "    def get_observation(self, location):\n",
        "        # Returns partially observable observation centered around location\n",
        "        observation_grid_static = np.add(self.grid[location[0]-self.observation_radius : location[0]+self.observation_radius+1][location[1]-self.observation_radius : location[1]+self.observation_radius+1], \\\n",
        "                                    self.static[location[0]-self.observation_radius : location[0]+self.observation_radius+1][location[1]-self.observation_radius : location[1]+self.observation_radius+1])\n",
        "        observation_dynamic = self.dynamic[location[0]-self.observation_radius : location[0]+self.observation_radius+1][location[1]-self.observation_radius : location[1]+self.observation_radius+1]\n",
        "        return observation_grid_static, observation_dynamic\n",
        "\n",
        "    def reset(self, grid=None):\n",
        "        self.static = np.zeros((self.cols, self.rows), dtype=float)     # one-hot encoding of agent locations\n",
        "        self.agent_nums = np.zeros((self.cols, self.rows), dtype=float)\n",
        "        self.dynamic = np.zeros((self.cols, self.rows), dtype=float)  # pheromone values for every location in grid\n",
        "\n",
        "        if grid is not None:        # if there is a grid passed through\n",
        "            self.grid = grid\n",
        "        else:\n",
        "            self.grid = np.zeros((self.cols, self.rows), dtype=float)\n",
        "            for i in range(2): \n",
        "                for j in range(2):\n",
        "                    self.grid[i][j] = 2               # Hive \n",
        "            self.grid[self.cols-1][self.rows-1] = 9              # Place food in the corner\n",
        "        \n",
        "        \n",
        "        '''\n",
        "            Params\n",
        "        '''\n",
        "        self.total_food = 0\n",
        "        self.time_step = 0\n",
        "\n",
        "        '''\n",
        "            Spawn queue\n",
        "        '''\n",
        "        self.spawn_queue = []\n",
        "\n",
        "    def run_episode(self, agents, grid=None):\n",
        "        # Add all agents to spawn queue\n",
        "        self.spawn_queue = [i for i in range(len(agents))]       \n",
        "\n",
        "        # Run through time steps\n",
        "        for time_step in range(self.total_steps):\n",
        "            # Spawn agents if they can be spawned\n",
        "            for i in range(min(self.spawn_rate, len(self.spawn_queue))):\n",
        "                new_agent = agents[self.spawn_queue.pop(0)]\n",
        "                new_agent.active = 1\n",
        "                new_agent.location = (0,0)\n",
        "                self.static[0][0] = 1\n",
        "                self.agent_nums[0][0] += 1\n",
        "                # print(agents[0])\n",
        "            # Update observation for every active agent\n",
        "            for agent in agents:\n",
        "                if agent.active == 1:\n",
        "                    agent.observation = self.get_observation(agent.location)\n",
        "            # Environment.step\n",
        "            self.step(agents)\n",
        "        \n",
        "        food_collected = self.total_food\n",
        "        print('grid')\n",
        "        self.visualize_map(self.grid)\n",
        "        print('static')\n",
        "        self.visualize_map(self.static)\n",
        "        # Reset environment\n",
        "        self.reset(grid)\n",
        "        # Return amount of collected food\n",
        "        return food_collected\n",
        "\n",
        "    def visualize_map(self, np_array):\n",
        "        # Print out np_array\n",
        "        print('\\n'.join([''.join(['{:4}'.format(item) for item in row]) for row in np_array]))\n",
        "\n"
      ],
      "execution_count": 77,
      "outputs": []
    },
    {
      "cell_type": "markdown",
      "metadata": {
        "id": "9CQ2anyOGu0B"
      },
      "source": [
        "# Agent class"
      ]
    },
    {
      "cell_type": "code",
      "metadata": {
        "id": "tBBcYq9mGsEp"
      },
      "source": [
        "class Agent(object):\n",
        "    def __init__(self, id=None):\n",
        "        self.location = (0,0)\n",
        "        self.prev_location = (0,0)\n",
        "        self.food = 0\n",
        "        self.active = 0\n",
        "        self.id = id\n",
        "        self.observation = None\n",
        "        self.bfs_active = 0\n",
        "        self.valid_movements = [(0,0)]\n",
        "    def get_state(self):\n",
        "        return self.location, self.food\n",
        "    def get_action(self):\n",
        "        # Returns movement, pheromone\n",
        "        # Uses self.observation and self.valid movements\n",
        "        # Abstract method\n",
        "        return self.random_action()\n",
        "        # raise NotImplementedError('get_action not implemented')\n",
        "    def random_action(self):\n",
        "        return random.choice(self.valid_movements), random.uniform(0,1.)\n",
        "    def __str__(self):\n",
        "        return ''+ str(self.location) + ' ' + str(self.active) + ' ' + str(self.food)\n",
        "        "
      ],
      "execution_count": 74,
      "outputs": []
    },
    {
      "cell_type": "markdown",
      "metadata": {
        "id": "VpmQ5TwSLcgJ"
      },
      "source": [
        "# Testing"
      ]
    },
    {
      "cell_type": "code",
      "metadata": {
        "colab": {
          "base_uri": "https://localhost:8080/"
        },
        "id": "d5uuOjnELYsC",
        "outputId": "3c0bac9a-7162-46aa-d92b-0c2b736279b0"
      },
      "source": [
        "testAgents = [Agent(i) for i in range(10)]\n",
        "env = Environment(ENV_PARAMS)\n",
        "output = env.run_episode(testAgents)\n",
        "print(output)"
      ],
      "execution_count": 79,
      "outputs": [
        {
          "output_type": "stream",
          "name": "stdout",
          "text": [
            "grid\n",
            " 2.0 0.0 0.0 0.0 0.0 0.0 0.0 0.0 0.0 0.0 0.0 0.0 0.0 0.0 0.0 0.0 0.0 0.0 0.0 0.0\n",
            " 0.0 0.0 0.0 0.0 0.0 0.0 0.0 0.0 0.0 0.0 0.0 0.0 0.0 0.0 0.0 0.0 0.0 0.0 0.0 0.0\n",
            " 0.0 0.0 0.0 0.0 0.0 0.0 0.0 0.0 0.0 0.0 0.0 0.0 0.0 0.0 0.0 0.0 0.0 0.0 0.0 0.0\n",
            " 0.0 0.0 0.0 0.0 0.0 0.0 0.0 0.0 0.0 0.0 0.0 0.0 0.0 0.0 0.0 0.0 0.0 0.0 0.0 0.0\n",
            " 0.0 0.0 0.0 0.0 0.0 0.0 0.0 0.0 0.0 0.0 0.0 0.0 0.0 0.0 0.0 0.0 0.0 0.0 0.0 0.0\n",
            " 0.0 0.0 0.0 0.0 0.0 0.0 0.0 0.0 0.0 0.0 0.0 0.0 0.0 0.0 0.0 0.0 0.0 0.0 0.0 0.0\n",
            " 0.0 0.0 0.0 0.0 0.0 0.0 0.0 0.0 0.0 0.0 0.0 0.0 0.0 0.0 0.0 0.0 0.0 0.0 0.0 0.0\n",
            " 0.0 0.0 0.0 0.0 0.0 0.0 0.0 0.0 0.0 0.0 0.0 0.0 0.0 0.0 0.0 0.0 0.0 0.0 0.0 0.0\n",
            " 0.0 0.0 0.0 0.0 0.0 0.0 0.0 0.0 0.0 0.0 0.0 0.0 0.0 0.0 0.0 0.0 0.0 0.0 0.0 0.0\n",
            " 0.0 0.0 0.0 0.0 0.0 0.0 0.0 0.0 0.0 0.0 0.0 0.0 0.0 0.0 0.0 0.0 0.0 0.0 0.0 0.0\n",
            " 0.0 0.0 0.0 0.0 0.0 0.0 0.0 0.0 0.0 0.0 0.0 0.0 0.0 0.0 0.0 0.0 0.0 0.0 0.0 0.0\n",
            " 0.0 0.0 0.0 0.0 0.0 0.0 0.0 0.0 0.0 0.0 0.0 0.0 0.0 0.0 0.0 0.0 0.0 0.0 0.0 0.0\n",
            " 0.0 0.0 0.0 0.0 0.0 0.0 0.0 0.0 0.0 0.0 0.0 0.0 0.0 0.0 0.0 0.0 0.0 0.0 0.0 0.0\n",
            " 0.0 0.0 0.0 0.0 0.0 0.0 0.0 0.0 0.0 0.0 0.0 0.0 0.0 0.0 0.0 0.0 0.0 0.0 0.0 0.0\n",
            " 0.0 0.0 0.0 0.0 0.0 0.0 0.0 0.0 0.0 0.0 0.0 0.0 0.0 0.0 0.0 0.0 0.0 0.0 0.0 0.0\n",
            " 0.0 0.0 0.0 0.0 0.0 0.0 0.0 0.0 0.0 0.0 0.0 0.0 0.0 0.0 0.0 0.0 0.0 0.0 0.0 0.0\n",
            " 0.0 0.0 0.0 0.0 0.0 0.0 0.0 0.0 0.0 0.0 0.0 0.0 0.0 0.0 0.0 0.0 0.0 0.0 0.0 0.0\n",
            " 0.0 0.0 0.0 0.0 0.0 0.0 0.0 0.0 0.0 0.0 0.0 0.0 0.0 0.0 0.0 0.0 0.0 0.0 0.0 0.0\n",
            " 0.0 0.0 0.0 0.0 0.0 0.0 0.0 0.0 0.0 0.0 0.0 0.0 0.0 0.0 0.0 0.0 0.0 0.0 0.0 0.0\n",
            " 0.0 0.0 0.0 0.0 0.0 0.0 0.0 0.0 0.0 0.0 0.0 0.0 0.0 0.0 0.0 0.0 0.0 0.0 0.0 4.0\n",
            "static\n",
            " 1.0 0.0 0.0 0.0 0.0 0.0 0.0 0.0 0.0 0.0 0.0 0.0 0.0 0.0 0.0 0.0 0.0 0.0 0.0 0.0\n",
            " 0.0 0.0 0.0 0.0 0.0 0.0 0.0 0.0 0.0 0.0 0.0 0.0 0.0 0.0 0.0 0.0 0.0 0.0 0.0 0.0\n",
            " 0.0 0.0 0.0 0.0 0.0 0.0 0.0 0.0 0.0 0.0 0.0 0.0 0.0 0.0 0.0 0.0 0.0 0.0 0.0 0.0\n",
            " 0.0 0.0 0.0 0.0 0.0 0.0 0.0 0.0 0.0 0.0 0.0 1.0 0.0 0.0 0.0 0.0 0.0 0.0 0.0 0.0\n",
            " 0.0 0.0 0.0 0.0 0.0 0.0 0.0 0.0 0.0 0.0 0.0 0.0 0.0 0.0 0.0 0.0 0.0 0.0 0.0 0.0\n",
            " 0.0 0.0 0.0 0.0 0.0 0.0 0.0 0.0 0.0 0.0 0.0 0.0 0.0 1.0 0.0 0.0 0.0 0.0 0.0 0.0\n",
            " 0.0 0.0 0.0 0.0 0.0 0.0 0.0 0.0 0.0 0.0 0.0 0.0 0.0 0.0 0.0 0.0 0.0 0.0 0.0 0.0\n",
            " 0.0 0.0 0.0 0.0 0.0 0.0 0.0 0.0 0.0 0.0 0.0 0.0 0.0 0.0 0.0 0.0 1.0 0.0 0.0 0.0\n",
            " 0.0 1.0 0.0 0.0 0.0 1.0 0.0 1.0 0.0 0.0 0.0 0.0 0.0 0.0 0.0 0.0 0.0 0.0 0.0 0.0\n",
            " 0.0 0.0 0.0 1.0 0.0 0.0 0.0 0.0 0.0 0.0 0.0 0.0 0.0 0.0 0.0 0.0 0.0 0.0 0.0 0.0\n",
            " 0.0 0.0 0.0 0.0 0.0 0.0 0.0 0.0 0.0 0.0 0.0 1.0 0.0 0.0 0.0 0.0 0.0 0.0 0.0 0.0\n",
            " 0.0 0.0 0.0 0.0 0.0 0.0 0.0 0.0 0.0 0.0 0.0 0.0 0.0 0.0 0.0 0.0 0.0 0.0 0.0 0.0\n",
            " 0.0 0.0 0.0 0.0 0.0 0.0 0.0 0.0 0.0 0.0 0.0 0.0 0.0 0.0 0.0 0.0 0.0 0.0 0.0 0.0\n",
            " 0.0 0.0 0.0 0.0 0.0 0.0 0.0 0.0 0.0 0.0 0.0 0.0 0.0 0.0 0.0 0.0 0.0 0.0 0.0 0.0\n",
            " 0.0 0.0 0.0 0.0 0.0 0.0 0.0 0.0 0.0 0.0 0.0 0.0 0.0 0.0 0.0 0.0 0.0 0.0 1.0 0.0\n",
            " 0.0 0.0 0.0 0.0 0.0 0.0 0.0 0.0 0.0 0.0 0.0 0.0 0.0 0.0 0.0 0.0 0.0 0.0 0.0 0.0\n",
            " 0.0 0.0 0.0 0.0 0.0 0.0 0.0 0.0 0.0 0.0 0.0 0.0 0.0 0.0 0.0 0.0 0.0 1.0 0.0 0.0\n",
            " 0.0 0.0 0.0 0.0 0.0 0.0 0.0 0.0 0.0 0.0 0.0 0.0 0.0 0.0 0.0 0.0 0.0 0.0 0.0 0.0\n",
            " 0.0 0.0 0.0 0.0 0.0 0.0 0.0 0.0 0.0 0.0 0.0 0.0 0.0 0.0 0.0 0.0 0.0 0.0 0.0 0.0\n",
            " 0.0 0.0 0.0 0.0 0.0 0.0 0.0 0.0 0.0 0.0 0.0 0.0 0.0 0.0 0.0 0.0 0.0 0.0 0.0 0.0\n",
            "20\n"
          ]
        }
      ]
    }
  ]
}